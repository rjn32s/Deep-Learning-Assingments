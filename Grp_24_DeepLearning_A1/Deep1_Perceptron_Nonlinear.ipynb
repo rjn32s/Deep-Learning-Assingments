{
  "nbformat": 4,
  "nbformat_minor": 0,
  "metadata": {
    "colab": {
      "name": "Deep1_Perceptron_Nonlinear.ipynb",
      "provenance": []
    },
    "kernelspec": {
      "name": "python3",
      "display_name": "Python 3"
    },
    "language_info": {
      "name": "python"
    }
  },
  "cells": [
    {
      "cell_type": "code",
      "execution_count": 1,
      "metadata": {
        "colab": {
          "base_uri": "https://localhost:8080/"
        },
        "id": "fEzDx49YYsuD",
        "outputId": "ccda726c-443c-45b4-c874-935fd920efe7"
      },
      "outputs": [
        {
          "output_type": "stream",
          "name": "stdout",
          "text": [
            "Mounted at /content/drive\n"
          ]
        }
      ],
      "source": [
        "from google.colab import drive\n",
        "drive.mount('/content/drive')"
      ]
    },
    {
      "cell_type": "code",
      "source": [
        "import pandas as pd\n",
        "import numpy as np\n",
        "import matplotlib.pyplot as plt\n",
        "import seaborn as sns\n",
        "from pandas import DataFrame\n",
        "from matplotlib.pyplot import figure\n",
        "\n",
        "\n",
        "class1 = pd.read_csv('/content/drive/MyDrive/DeepPerc1/NLS.txt')\n",
        "# print(class2)\n",
        "\n",
        "#Data Cleaning and separating values for X and Y, assigned values of cname \n",
        "dfc1 = pd.DataFrame(class1)\n",
        "dfc1.columns=['X']\n",
        "\n",
        "#dfc1.columns=['X','Y']\n",
        "dfc1=dfc1.X.str.split(expand=True)\n",
        "dfc1.columns=['X','Y']\n",
        "print(dfc1)\n",
        "#dfc1\n",
        "dfc2=pd.DataFrame()\n",
        "arr=[0]*500\n",
        "for i in range(0,500):\n",
        "  arr[i]=i\n",
        "print(dfc1['X'][0])\n",
        "\n",
        "dfc2=dfc1[300:800]\n",
        "dfc2.reset_index(inplace=True,drop=True)\n",
        "print(dfc2)\n",
        "dfc3=dfc1[800:1799]\n",
        "dfc3.reset_index(inplace=True,drop=True)\n",
        "\n",
        "dfc1=dfc1[:300]\n",
        "\n",
        "\n",
        "\n",
        "\n",
        "\n",
        "\n",
        "\n",
        "# dfc2 = pd.DataFrame(class2)\n",
        "# dfc2.columns=['X']\n",
        "# dfc2=dfc2.X.str.split(expand=True)\n",
        "dfc2.columns=['X','Y']\n",
        "\n",
        "# dfc3 = pd.DataFrame(class3)\n",
        "# dfc3.columns=['X']\n",
        "\n",
        "# #dfc1.columns=['X','Y']\n",
        "# dfc3=dfc3.X.str.split(expand=True)\n",
        "dfc3.columns=['X','Y']\n",
        "\n",
        "frames=[dfc1,dfc2,dfc3]\n",
        "res=pd.concat(frames)\n",
        "\n",
        "#Final data of 2000 points in df\n",
        "df = pd.concat([dfc1,dfc2,dfc3])\n",
        "df[\"x\"] = pd.to_numeric(df[\"X\"])\n",
        "df[\"y\"] = pd.to_numeric(df[\"Y\"])\n",
        "\n",
        "#df[\"x\"] = df[\"x\"].astype(int)\n",
        "# print(df.iloc[1999])\n",
        "\n",
        "X = df[\"x\"].to_numpy()\n",
        "Y = df[\"y\"].to_numpy()\n",
        "print(type(df.dtypes))\n",
        "print(type(df.iloc[0][0]))\n",
        "sns.scatterplot(data=df, x=\"x\", y=\"y\",s=5)\n",
        "print(dfc3['X'][806])\n"
      ],
      "metadata": {
        "colab": {
          "base_uri": "https://localhost:8080/",
          "height": 825
        },
        "id": "wposO_OhY9kl",
        "outputId": "39a230e4-ca58-4f98-9641-00ddf206dcf0"
      },
      "execution_count": 2,
      "outputs": [
        {
          "output_type": "stream",
          "name": "stdout",
          "text": [
            "              X          Y\n",
            "0     -0.208340   0.107337\n",
            "1     -0.487379   0.131786\n",
            "2     -0.564656  -0.193942\n",
            "3      0.527243  -0.166957\n",
            "4     -0.433805  -0.113134\n",
            "...         ...        ...\n",
            "1794   4.221331  -0.045618\n",
            "1795   4.483162   2.921077\n",
            "1796  -0.524097   3.659981\n",
            "1797  -3.563939  -4.183029\n",
            "1798  -4.781256  -0.034948\n",
            "\n",
            "[1799 rows x 2 columns]\n",
            "-0.208340\n",
            "             X          Y\n",
            "0    -1.506218  -1.231862\n",
            "1     1.054270  -1.198166\n",
            "2     0.976215  -0.831534\n",
            "3     1.008328  -1.037971\n",
            "4     1.255767  -0.343351\n",
            "..         ...        ...\n",
            "495  -0.771868  -1.428262\n",
            "496  -1.478610  -0.569275\n",
            "497   0.517546  -1.306114\n",
            "498   1.291706  -0.405461\n",
            "499  -1.454964   5.142118\n",
            "\n",
            "[500 rows x 2 columns]\n",
            "<class 'pandas.core.series.Series'>\n",
            "<class 'str'>\n",
            "0.547634\n"
          ]
        },
        {
          "output_type": "display_data",
          "data": {
            "text/plain": [
              "<Figure size 432x288 with 1 Axes>"
            ],
            "image/png": "[encoded data removed]"
          },
          "metadata": {
            "needs_background": "light"
          }
        }
      ]
    },
    {
      "cell_type": "code",
      "source": [
        "\n",
        "df_train = pd.concat([dfc1[:180],dfc2[:300]])\n",
        "df_test = pd.concat([dfc1[:60],dfc2[:100],dfc3[:200]])\n",
        "print(df_train.shape[0])\n",
        "# print(len(df_train))\n",
        "df_train.columns=['x','y']\n",
        "df_train[\"x\"] = pd.to_numeric(df_train[\"x\"])\n",
        "df_train[\"y\"] = pd.to_numeric(df_train[\"y\"])\n",
        "\n",
        "df_test.columns=['x','y']\n",
        "df_test[\"x\"] = pd.to_numeric(df_test[\"x\"])\n",
        "df_test[\"y\"] = pd.to_numeric(df_test[\"y\"])\n",
        "\n",
        "\n",
        "label=[0]*480\n",
        "for i in range(180,480):\n",
        "  label[i]=1\n",
        "tp=res.to_numpy()\n",
        "la=pd.DataFrame(label,columns=['label'])"
      ],
      "metadata": {
        "colab": {
          "base_uri": "https://localhost:8080/"
        },
        "id": "-JyqvwwNY_oZ",
        "outputId": "d293f61f-c170-456e-cf16-dd37acc33f91"
      },
      "execution_count": 14,
      "outputs": [
        {
          "output_type": "stream",
          "name": "stdout",
          "text": [
            "480\n"
          ]
        }
      ]
    },
    {
      "cell_type": "code",
      "source": [
        "pr=[0]*360\n",
        "for i in range(360):\n",
        "  if(i<60):\n",
        "    pr[i]=1\n",
        "  elif(i>60 and i<160):\n",
        "    pr[i]=2\n",
        "  else:\n",
        "    pr[i]=3\n",
        "df_test['Actual']=pr\n",
        "print(df_test.iloc[2][0])\n"
      ],
      "metadata": {
        "colab": {
          "base_uri": "https://localhost:8080/"
        },
        "id": "VLmJTvr4vcLc",
        "outputId": "a43fe499-6b1a-49ef-f28a-4f31d48b7c89"
      },
      "execution_count": 16,
      "outputs": [
        {
          "output_type": "stream",
          "name": "stdout",
          "text": [
            "-0.564656\n"
          ]
        }
      ]
    },
    {
      "cell_type": "code",
      "source": [
        "\n",
        "df_train13 = pd.concat([dfc1[:180],dfc3[:600]])\n",
        "df_test13 = pd.concat([dfc1[:120],dfc3[:400]])\n",
        "print(df_train13.shape[0])\n",
        "# print(len(df_train))\n",
        "df_train13.columns=['x','y']\n",
        "df_train13[\"x\"] = pd.to_numeric(df_train13[\"x\"])\n",
        "df_train13[\"y\"] = pd.to_numeric(df_train13[\"y\"])\n",
        "\n",
        "df_test13.columns=['x','y']\n",
        "df_test13[\"x\"] = pd.to_numeric(df_test13[\"x\"])\n",
        "df_test13[\"y\"] = pd.to_numeric(df_test13[\"y\"])\n",
        "\n",
        "\n",
        "label13=[0]*780\n",
        "for i in range(180,780):\n",
        "  label13[i]=2\n",
        "tp=res.to_numpy()\n",
        "la13=pd.DataFrame(label13,columns=['label'])"
      ],
      "metadata": {
        "colab": {
          "base_uri": "https://localhost:8080/"
        },
        "id": "9Lh3cAIFZCMA",
        "outputId": "2f77204a-bdeb-4a35-a377-839ca0599c04"
      },
      "execution_count": 4,
      "outputs": [
        {
          "output_type": "stream",
          "name": "stdout",
          "text": [
            "780\n"
          ]
        }
      ]
    },
    {
      "cell_type": "code",
      "source": [
        "\n",
        "df_train23 = pd.concat([dfc2[:300],dfc3[:600]])\n",
        "df_test23 = pd.concat([dfc2[:200],dfc3[:400]])\n",
        "print(df_train23.shape[0])\n",
        "# print(len(df_train))\n",
        "df_train23.columns=['x','y']\n",
        "df_train23[\"x\"] = pd.to_numeric(df_train23[\"x\"])\n",
        "df_train23[\"y\"] = pd.to_numeric(df_train23[\"y\"])\n",
        "\n",
        "df_test23.columns=['x','y']\n",
        "df_test23[\"x\"] = pd.to_numeric(df_test23[\"x\"])\n",
        "df_test23[\"y\"] = pd.to_numeric(df_test23[\"y\"])\n",
        "\n",
        "\n",
        "label23=[0]*900\n",
        "for i in range(0,300):\n",
        "  label23[i]=1\n",
        "for i in range(300,900):\n",
        "  label23[i]=2\n",
        "tp=res.to_numpy()\n",
        "la23=pd.DataFrame(label23,columns=['label'])"
      ],
      "metadata": {
        "colab": {
          "base_uri": "https://localhost:8080/"
        },
        "id": "J_4rElAgZELT",
        "outputId": "350ada06-a5e9-4e8a-d78b-d90cf45ba51f"
      },
      "execution_count": 5,
      "outputs": [
        {
          "output_type": "stream",
          "name": "stdout",
          "text": [
            "900\n"
          ]
        }
      ]
    },
    {
      "cell_type": "code",
      "source": [
        " def sigmoid(x):\n",
        "    return 1.0 / (1.0 + np.exp(-x))"
      ],
      "metadata": {
        "id": "bAFUYCVUZF6K"
      },
      "execution_count": 6,
      "outputs": []
    },
    {
      "cell_type": "code",
      "source": [
        "def perceptron12(X, y, lr, epochs):\n",
        "    \n",
        "    # X --> Inputs.\n",
        "    # y --> labels/target.\n",
        "    # lr --> learning rate.\n",
        "    # epochs --> Number of iterations.\n",
        "    \n",
        "    # m-> number of training examples\n",
        "    # n-> number of features \n",
        "    m, n = X.shape\n",
        "    \n",
        "    # Initializing parapeters(theta) to zeros.\n",
        "    # +1 in n+1 for the bias term.\n",
        "    theta = np.zeros((n+1,1))\n",
        "    \n",
        "    # Empty list to store how many examples were \n",
        "    # misclassified at every iteration.\n",
        "    n_miss_list = []\n",
        "    \n",
        "    # Training.\n",
        "    for epoch in range(epochs):\n",
        "        \n",
        "        # variable to store #misclassified.\n",
        "        n_miss = 0\n",
        "        \n",
        "        # looping for every example.\n",
        "        for idx, x_i in enumerate(X):\n",
        "            \n",
        "            # Insering 1 for bias, X0 = 1.\n",
        "            x_i = np.insert(x_i, 0, 1).reshape(-1,1)\n",
        "            \n",
        "            # Calculating prediction/hypothesis.\n",
        "            y_hat = sigmoid(np.dot(x_i.T, theta))\n",
        "            #y_hat = step_func(np.dot(x_i.T, theta))\n",
        "            \n",
        "            # Updating if the example is misclassified.\n",
        "            if (np.squeeze(y_hat) - y[idx]) != 0:\n",
        "                theta += lr*((y[idx] - y_hat)*x_i)\n",
        "                \n",
        "                # Incrementing by 1.\n",
        "                n_miss += (y[idx] - y_hat)\n",
        "        \n",
        "        # Appending number of misclassified examples\n",
        "        # at every iteration.\n",
        "        n_miss_list.append(n_miss)\n",
        "        \n",
        "    return theta, n_miss_list"
      ],
      "metadata": {
        "id": "6-T0RGAQZISF"
      },
      "execution_count": 7,
      "outputs": []
    },
    {
      "cell_type": "code",
      "source": [
        "def perceptron13(X, y, lr, epochs):\n",
        "    \n",
        "    # X --> Inputs.\n",
        "    # y --> labels/target.\n",
        "    # lr --> learning rate.\n",
        "    # epochs --> Number of iterations.\n",
        "    \n",
        "    # m-> number of training examples\n",
        "    # n-> number of features \n",
        "    m, n = X.shape\n",
        "    \n",
        "    # Initializing parapeters(theta) to zeros.\n",
        "    # +1 in n+1 for the bias term.\n",
        "    theta = np.zeros((n+1,1))\n",
        "    \n",
        "    # Empty list to store how many examples were \n",
        "    # misclassified at every iteration.\n",
        "    n_miss_list = []\n",
        "    \n",
        "    # Training.\n",
        "    for epoch in range(epochs):\n",
        "        \n",
        "        # variable to store #misclassified.\n",
        "        n_miss = 0\n",
        "        \n",
        "        # looping for every example.\n",
        "        for idx, x_i in enumerate(X):\n",
        "            \n",
        "            # Insering 1 for bias, X0 = 1.\n",
        "            x_i = np.insert(x_i, 0, 1).reshape(-1,1)\n",
        "            \n",
        "            # Calculating prediction/hypothesis.\n",
        "            y_hat = sigmoid(np.dot(x_i.T, theta))\n",
        "            #y_hat = step_func(np.dot(x_i.T, theta))\n",
        "            \n",
        "            # Updating if the example is misclassified.\n",
        "            if (np.squeeze(y_hat) - y[idx]) != 0:\n",
        "                theta += lr*((y[idx] - y_hat)*x_i)\n",
        "                \n",
        "                # Incrementing by 1.\n",
        "                n_miss += (y[idx] - y_hat)\n",
        "        \n",
        "        # Appending number of misclassified examples\n",
        "        # at every iteration.\n",
        "        n_miss_list.append(n_miss)\n",
        "        \n",
        "    return theta, n_miss_list"
      ],
      "metadata": {
        "id": "nOn_FI1UZJ63"
      },
      "execution_count": 8,
      "outputs": []
    },
    {
      "cell_type": "code",
      "source": [
        "def perceptron23(X, y, lr, epochs):\n",
        "    \n",
        "    # X --> Inputs.\n",
        "    # y --> labels/target.\n",
        "    # lr --> learning rate.\n",
        "    # epochs --> Number of iterations.\n",
        "    \n",
        "    # m-> number of training examples\n",
        "    # n-> number of features \n",
        "    m, n = X.shape\n",
        "    \n",
        "    # Initializing parapeters(theta) to zeros.\n",
        "    # +1 in n+1 for the bias term.\n",
        "    theta = np.zeros((n+1,1))\n",
        "    \n",
        "    # Empty list to store how many examples were \n",
        "    # misclassified at every iteration.\n",
        "    n_miss_list = []\n",
        "    \n",
        "    # Training.\n",
        "    for epoch in range(epochs):\n",
        "        \n",
        "        # variable to store #misclassified.\n",
        "        n_miss = 0\n",
        "        \n",
        "        # looping for every example.\n",
        "        for idx, x_i in enumerate(X):\n",
        "            \n",
        "            # Insering 1 for bias, X0 = 1.\n",
        "            x_i = np.insert(x_i, 0, 1).reshape(-1,1)\n",
        "            \n",
        "            # Calculating prediction/hypothesis.\n",
        "            y_hat = sigmoid(np.dot(x_i.T, theta))\n",
        "            #y_hat = step_func(np.dot(x_i.T, theta))\n",
        "            \n",
        "            # Updating if the example is misclassified.\n",
        "            if (np.squeeze(y_hat) - y[idx]) != 0:\n",
        "                theta += lr*((y[idx] - y_hat)*x_i)\n",
        "                \n",
        "                # Incrementing by 1.\n",
        "                n_miss += (y[idx] - y_hat)\n",
        "        \n",
        "        # Appending number of misclassified examples\n",
        "        # at every iteration.\n",
        "        n_miss_list.append(n_miss)\n",
        "        \n",
        "    return theta, n_miss_list"
      ],
      "metadata": {
        "id": "AIbW4LVyZMAN"
      },
      "execution_count": 9,
      "outputs": []
    },
    {
      "cell_type": "code",
      "source": [
        "def plot_decision_boundary(X, theta):\n",
        "    \n",
        "    # X --> Inputs\n",
        "    # theta --> parameters\n",
        "    \n",
        "    # The Line is y=mx+c\n",
        "    # So, Equate mx+c = theta0.X0 + theta1.X1 + theta2.X2\n",
        "    # Solving we find m and c\n",
        "    x1 = [min(X[:,0]), max(X[:,0])]\n",
        "    m = -theta[1]/theta[2]\n",
        "    c = -theta[0]/theta[2]\n",
        "    x2 = m*x1 + c\n",
        "    \n",
        "    # Plotting\n",
        "    fig = plt.figure(figsize=(8,6))\n",
        "    plt.scatter(X[:, 0][y==0], X[:, 1][y==0])\n",
        "    plt.scatter(X[:, 0][y==1], X[:, 1][y==1])\n",
        "    plt.ylim(7,-40)\n",
        "    plt.xlabel(\"feature 1\")\n",
        "    plt.ylabel(\"feature 2\")\n",
        "   \n",
        "    plt.plot(x1, x2, 'y-',color='black')\n",
        "\n",
        "    return m,c"
      ],
      "metadata": {
        "id": "pdSkhANiZPz-"
      },
      "execution_count": 10,
      "outputs": []
    },
    {
      "cell_type": "code",
      "source": [
        "from sklearn import datasets\n",
        "X, y = datasets.make_blobs(n_samples=480,n_features=2,\n",
        "                           centers=2,cluster_std=1.05,\n",
        "                           random_state=2)\n",
        "P, k = datasets.make_blobs(n_samples=320,n_features=2,\n",
        "                           centers=2,cluster_std=1.05,\n",
        "                           random_state=2)\n",
        "\n",
        "X13, y13 = datasets.make_blobs(n_samples=780,n_features=2,\n",
        "                           centers=2,cluster_std=1.05,\n",
        "                           random_state=2)\n",
        "P13, k13 = datasets.make_blobs(n_samples=520,n_features=2,\n",
        "                           centers=2,cluster_std=1.05,\n",
        "                           random_state=2)\n",
        "\n",
        "X23, y23 = datasets.make_blobs(n_samples=900,n_features=2,\n",
        "                           centers=2,cluster_std=1.05,\n",
        "                           random_state=2)\n",
        "P23, k23 = datasets.make_blobs(n_samples=600,n_features=2,\n",
        "                           centers=2,cluster_std=1.05,\n",
        "                           random_state=2)\n",
        "\n",
        "\n",
        "\n",
        "#Plotting\n",
        "for i in range(480):\n",
        "  X[i][0]=df_train.iloc[i][0]\n",
        "  X[i][1]=df_train.iloc[i][1]\n",
        "  if(i<180):\n",
        "    y[i]=0\n",
        "  else:\n",
        "    y[i]=1\n",
        "\n",
        "for i in range(320):\n",
        "  P[i][0]=df_test.iloc[i][0]\n",
        "  P[i][1]=df_test.iloc[i][1]\n",
        "  \n",
        "  ############################\n",
        "\n",
        "for i in range(900):\n",
        "  X23[i][0]=df_train23.iloc[i][0]\n",
        "  X23[i][1]=df_train23.iloc[i][1]\n",
        "  if(i<300):\n",
        "    y23[i]=0\n",
        "  else:\n",
        "    y23[i]=1\n",
        "\n",
        "for i in range(600):\n",
        "  P23[i][0]=df_test23.iloc[i][0]\n",
        "  P23[i][1]=df_test23.iloc[i][1]\n",
        "\n",
        "  ##################\n",
        "for i in range(780):\n",
        "  X13[i][0]=df_train13.iloc[i][0]\n",
        "  X13[i][1]=df_train13.iloc[i][1]\n",
        "  if(i<180):\n",
        "    y13[i]=0\n",
        "  else:\n",
        "    y13[i]=1\n",
        "\n",
        "for i in range(520):\n",
        "  P13[i][0]=df_test13.iloc[i][0]\n",
        "  P13[i][1]=df_test13.iloc[i][1]\n",
        "######################\n",
        "  \n",
        "\n",
        "  \n",
        "\n",
        "\n",
        "lp=np.array(label)\n",
        "\n",
        "\n",
        "theta, miss_l = perceptron12(X,y, 0.4, 10)\n",
        "#m,c=plot_decision_boundary(X, theta)\n",
        "################\n",
        "\n",
        "theta13, miss_l13 = perceptron13(X13,y13, 0.4, 100)\n",
        "#m13,c13=plot_decision_boundary(X13, theta13)\n",
        "###############\n",
        "\n",
        "\n",
        "theta23, miss_l23 = perceptron23(X23,y23, 0.4, 400)\n",
        "#m23,c23=plot_decision_boundary(X23, theta23)\n",
        "###############\n",
        "\n",
        "\n",
        "\n",
        "  # So, Equate mx+c = theta0.X0 + theta1.X1 + theta2.X2\n",
        "# Solving we find m and c\n",
        "x1 = [-6, 6]\n",
        "m = -theta[1]/theta[2]\n",
        "c = -theta[0]/theta[2]\n",
        "x2 = m*x1 + c\n",
        "\n",
        "# Plotting\n",
        "fig = plt.figure(figsize=(8,6))\n",
        "plt.scatter(X[:, 0][y==0], X[:, 1][y==0])\n",
        "plt.scatter(X[:, 0][y==1], X[:, 1][y==1])\n",
        "plt.ylim(-15,20)\n",
        "plt.xlabel(\"feature 1\")\n",
        "plt.ylabel(\"feature 2\")\n",
        "\n",
        "plt.plot(x1, x2,color='black')\n",
        "\n",
        "\n",
        "slope1=m\n",
        "inter1=c\n",
        "\n",
        "####################\n",
        "\n",
        "# So, Equate mx+c = theta0.X0 + theta1.X1 + theta2.X2\n",
        "# Solving we find m and c\n",
        "x1 = [min(X13[:,0]), max(X13[:,0])]\n",
        "m = -theta13[1]/theta13[2]\n",
        "c = -theta13[0]/theta13[2]\n",
        "x2 = m*x1 + c\n",
        "\n",
        "# Plotting\n",
        "#fig = plt.figure(figsize=(8,6))\n",
        "plt.scatter(X13[:, 0][y13==0], X13[:, 1][y13==0])\n",
        "plt.scatter(X13[:, 0][y13==2], X13[:, 1][y13==2])\n",
        "plt.ylim(-15,20)\n",
        "plt.xlabel(\"feature 1\")\n",
        "plt.ylabel(\"feature 2\")\n",
        "\n",
        "plt.plot(x1, x2, 'y-',color='red')\n",
        "# print(x1,\" Co ordinates \",x2)\n",
        "\n",
        "# print(m)\n",
        "\n",
        "\n",
        "\n",
        "x1 = [-6,6]\n",
        "m = -theta23[1]/theta23[2]\n",
        "c = -theta23[0]/theta23[2]\n",
        "x2 = m*x1 + c\n",
        "\n",
        "# Plotting\n",
        "#fig = plt.figure(figsize=(8,6))\n",
        "plt.scatter(X23[:, 0][y23==0], X23[:, 1][y23==0])\n",
        "plt.scatter(X23[:, 0][y23==1], X23[:, 1][y23==1])\n",
        "plt.ylim(-15,20)\n",
        "plt.xlabel(\"feature 1\")\n",
        "plt.ylabel(\"feature 2\")\n",
        "\n",
        "plt.plot(x1, x2, 'y-',color='blue')\n",
        "print(x1,\" Co ordinates \",x2)\n",
        "\n",
        "slope2=m\n",
        "inter2=c\n",
        "\n",
        "\n",
        "\n",
        "\n",
        "print(miss_l)\n",
        "plt.show()\n",
        "\n",
        "ep=[0]*30\n",
        "mis=[0]*30\n",
        "for i in range(30):\n",
        "    ep[i]=i\n",
        "print(ep)\n",
        "for i in range(30):\n",
        "  mis[i]=abs(miss_l23[i])\n",
        "ar=np.array(mis)\n",
        "ar=ar.reshape(-1,)\n",
        "plt.plot(ep,ar)\n",
        "\n",
        "pred=[0]*320\n",
        "p=0\n",
        "\n",
        "for i in range(320):\n",
        "   k1=df_test.iloc[i][0]\n",
        "   k2=df_test.iloc[i][1]\n",
        "   t=m*k1 + c\n",
        "   if(k2>t):\n",
        "     pred[i]=1\n",
        "   else:\n",
        "     pred[i]=0\n",
        "c1=0\n",
        "c2=0\n",
        "for i in range(320):\n",
        "  if(i<200):\n",
        "    if(pred[i]==1):\n",
        "      c1=c1+1\n",
        "  else:\n",
        "    if(pred[i]==0):\n",
        "      c2=c2+1\n",
        "print(\"Confusion matrix \",c1,\"  \", 200 - c1)\n",
        "print(\"                 \",200-c2,\"  \", c2)\n",
        "acc= (400- (c1+c2))/4\n",
        "print(\"Accuracy : \", acc)\n"
      ],
      "metadata": {
        "colab": {
          "base_uri": "https://localhost:8080/",
          "height": 497
        },
        "id": "WWo8z4iVZQdx",
        "outputId": "3a66318d-dcf2-4522-b00d-0cb17bf6be58"
      },
      "execution_count": 11,
      "outputs": [
        {
          "output_type": "stream",
          "name": "stdout",
          "text": [
            "[-6, 6]  Co ordinates  [354.91966256 379.49555389]\n",
            "[array([[6.46359592]]), array([[-1.19967635]]), array([[-0.55624262]]), array([[-0.32166809]]), array([[-0.20506754]]), array([[-0.13823492]]), array([[-0.09642188]]), array([[-0.06874765]]), array([[-0.04973891]]), array([[-0.03635011]])]\n"
          ]
        },
        {
          "output_type": "display_data",
          "data": {
            "text/plain": [
              "<Figure size 576x432 with 1 Axes>"
            ],
            "image/png": "[encoded data removed]"
          },
          "metadata": {
            "needs_background": "light"
          }
        },
        {
          "output_type": "stream",
          "name": "stdout",
          "text": [
            "Confusion matrix  0    200\n",
            "                  80    120\n",
            "Accuracy :  70.0\n"
          ]
        }
      ]
    },
    {
      "cell_type": "code",
      "source": [
        "ep=[0]*30\n",
        "mis=[0]*30\n",
        "for i in range(30):\n",
        "    ep[i]=i\n",
        "print(ep)\n",
        "for i in range(30):\n",
        "  mis[i]=abs(miss_l23[i])\n",
        "ar=np.array(mis)\n",
        "ar=ar.reshape(-1,)\n",
        "plt.plot(ep,ar)"
      ],
      "metadata": {
        "colab": {
          "base_uri": "https://localhost:8080/",
          "height": 299
        },
        "id": "r2S8nJwDi_J2",
        "outputId": "73fce391-2112-4c86-f0b6-e6137ae3ae50"
      },
      "execution_count": 97,
      "outputs": [
        {
          "output_type": "stream",
          "name": "stdout",
          "text": [
            "[0, 1, 2, 3, 4, 5, 6, 7, 8, 9, 10, 11, 12, 13, 14, 15, 16, 17, 18, 19, 20, 21, 22, 23, 24, 25, 26, 27, 28, 29]\n"
          ]
        },
        {
          "output_type": "execute_result",
          "data": {
            "text/plain": [
              "[<matplotlib.lines.Line2D at 0x7f043f242650>]"
            ]
          },
          "metadata": {},
          "execution_count": 97
        },
        {
          "output_type": "display_data",
          "data": {
            "text/plain": [
              "<Figure size 432x288 with 1 Axes>"
            ],
            "image/png": "[encoded data removed]"
          },
          "metadata": {
            "needs_background": "light"
          }
        }
      ]
    }
  ]
}